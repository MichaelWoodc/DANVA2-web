{
 "cells": [
  {
   "cell_type": "code",
   "execution_count": 1,
   "metadata": {},
   "outputs": [
    {
     "name": "stdout",
     "output_type": "stream",
     "text": [
      "Downloaded: jspsych/jspsych.js\n",
      "Downloaded: jspsych/jspsych.css\n",
      "Downloaded: jspsych/plugin-html-keyboard-response.js\n",
      "Downloaded: jspsych/plugin-survey-text.js\n",
      "Downloaded: jspsych/plugin-image-button-response.js\n",
      "Downloaded: jspsych/plugin-fullscreen.js\n",
      "Downloaded: jspsych/jspdf.umd.min.js\n",
      "All required files downloaded. Place your stimulus images in the 'images' folder.\n"
     ]
    }
   ],
   "source": [
    "import os\n",
    "import requests\n",
    "\n",
    "# Create directories if they don't exist\n",
    "os.makedirs('jspsych', exist_ok=True)\n",
    "os.makedirs('images', exist_ok=True)  # for your stimulus images\n",
    "\n",
    "# Files to download\n",
    "files_to_download = [\n",
    "    ('https://unpkg.com/jspsych@7.3.4/dist/jspsych.js', 'jspsych/jspsych.js'),\n",
    "    ('https://unpkg.com/jspsych@7.3.4/css/jspsych.css', 'jspsych/jspsych.css'),\n",
    "    ('https://unpkg.com/@jspsych/plugin-html-keyboard-response@1.1.3/dist/index.browser.js', 'jspsych/plugin-html-keyboard-response.js'),\n",
    "    ('https://unpkg.com/@jspsych/plugin-survey-text@1.1.3/dist/index.browser.js', 'jspsych/plugin-survey-text.js'),\n",
    "    ('https://unpkg.com/@jspsych/plugin-image-button-response@1.1.3/dist/index.browser.js', 'jspsych/plugin-image-button-response.js'),\n",
    "    ('https://unpkg.com/@jspsych/plugin-fullscreen@1.1.3/dist/index.browser.js', 'jspsych/plugin-fullscreen.js'),\n",
    "    ('https://unpkg.com/jspdf@2.5.1/dist/jspdf.umd.min.js', 'jspsych/jspdf.umd.min.js')\n",
    "]\n",
    "\n",
    "# Download files\n",
    "for url, local_path in files_to_download:\n",
    "    response = requests.get(url)\n",
    "    with open(local_path, 'wb') as f:\n",
    "        f.write(response.content)\n",
    "    print(f\"Downloaded: {local_path}\")\n",
    "\n",
    "print(\"All required files downloaded. Place your stimulus images in the 'images' folder.\")"
   ]
  },
  {
   "cell_type": "code",
   "execution_count": 2,
   "metadata": {},
   "outputs": [
    {
     "name": "stdout",
     "output_type": "stream",
     "text": [
      "Downloading files from GitHub...\n",
      "\n",
      "Downloading jsPsych files...\n",
      "\n",
      "Setup complete! Place your image stimuli in the 'images' folder.\n"
     ]
    }
   ],
   "source": [
    "import os\n",
    "import requests\n",
    "from urllib.parse import urljoin\n",
    "from bs4 import BeautifulSoup\n",
    "\n",
    "def download_from_github(repo_url, local_dir):\n",
    "    \"\"\"Download all files from a GitHub repository directory\"\"\"\n",
    "    # Get the HTML content of the GitHub directory\n",
    "    response = requests.get(repo_url)\n",
    "    soup = BeautifulSoup(response.text, 'html.parser')\n",
    "    \n",
    "    # Find all file links\n",
    "    for link in soup.select('a[href$=\".csv\"], a[href$=\".jpg\"], a[href$=\".png\"], a[href$=\".jpeg\"]'):\n",
    "        file_url = urljoin(repo_url, link['href'])\n",
    "        filename = os.path.join(local_dir, os.path.basename(file_url))\n",
    "        \n",
    "        # Download the file\n",
    "        file_response = requests.get(file_url)\n",
    "        with open(filename, 'wb') as f:\n",
    "            f.write(file_response.content)\n",
    "        print(f\"Downloaded: {filename}\")\n",
    "\n",
    "def download_jspsych_files():\n",
    "    \"\"\"Download required jsPsych files\"\"\"\n",
    "    jspsych_files = [\n",
    "        ('https://unpkg.com/jspsych@7.3.4/dist/jspsych.js', 'jspsych/jspsych.js'),\n",
    "        ('https://unpkg.com/jspsych@7.3.4/css/jspsych.css', 'jspsych/jspsych.css'),\n",
    "        ('https://unpkg.com/@jspsych/plugin-html-keyboard-response@1.1.3/dist/index.browser.js', 'jspsych/plugin-html-keyboard-response.js'),\n",
    "        ('https://unpkg.com/@jspsych/plugin-survey-text@1.1.3/dist/index.browser.js', 'jspsych/plugin-survey-text.js'),\n",
    "        ('https://unpkg.com/@jspsych/plugin-image-button-response@1.1.3/dist/index.browser.js', 'jspsych/plugin-image-button-response.js'),\n",
    "        ('https://unpkg.com/jspdf@2.5.1/dist/jspdf.umd.min.js', 'jspsych/jspdf.umd.min.js')\n",
    "    ]\n",
    "    \n",
    "    for url, local_path in jspsych_files:\n",
    "        response = requests.get(url)\n",
    "        os.makedirs(os.path.dirname(local_path), exist_ok=True)\n",
    "        with open(local_path, 'wb') as f:\n",
    "            f.write(response.content)\n",
    "        print(f\"Downloaded: {local_path}\")\n",
    "\n",
    "# Create directories\n",
    "os.makedirs('stimFiles', exist_ok=True)\n",
    "os.makedirs('jspsych', exist_ok=True)\n",
    "os.makedirs('images', exist_ok=True)\n",
    "\n",
    "# Download files from GitHub\n",
    "print(\"Downloading files from GitHub...\")\n",
    "download_from_github('https://github.com/MichaelWoodc/DANVA2/tree/main/stimFiles', 'stimFiles')\n",
    "\n",
    "# Download jsPsych files\n",
    "print(\"\\nDownloading jsPsych files...\")\n",
    "# download_jspsych_files()\n",
    "\n",
    "print(\"\\nSetup complete! Place your image stimuli in the 'images' folder.\")"
   ]
  },
  {
   "cell_type": "code",
   "execution_count": 3,
   "metadata": {},
   "outputs": [
    {
     "name": "stdout",
     "output_type": "stream",
     "text": [
      "Directory structure created. Place your 24 images in stimFiles/adultFaces/ as 1.jpg through 24.jpg\n"
     ]
    }
   ],
   "source": [
    "# Python script to create directory structure\n",
    "import os\n",
    "\n",
    "# Create necessary directories\n",
    "os.makedirs('stimFiles/adultFaces', exist_ok=True)\n",
    "os.makedirs('results', exist_ok=True)\n",
    "\n",
    "print(\"Directory structure created. Place your 24 images in stimFiles/adultFaces/ as 1.jpg through 24.jpg\")"
   ]
  }
 ],
 "metadata": {
  "kernelspec": {
   "display_name": "Python 3",
   "language": "python",
   "name": "python3"
  },
  "language_info": {
   "codemirror_mode": {
    "name": "ipython",
    "version": 3
   },
   "file_extension": ".py",
   "mimetype": "text/x-python",
   "name": "python",
   "nbconvert_exporter": "python",
   "pygments_lexer": "ipython3",
   "version": "3.13.2"
  }
 },
 "nbformat": 4,
 "nbformat_minor": 2
}
